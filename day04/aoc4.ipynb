{
  "nbformat": 4,
  "nbformat_minor": 0,
  "metadata": {
    "colab": {
      "name": "AdventOfCode21-4.ipynb",
      "provenance": [],
      "collapsed_sections": [],
      "mount_file_id": "11PzZ2mWO-GmsIB1WKfpicwi0kMwZWUOY",
      "authorship_tag": "ABX9TyMpnvOjs/RPGl+wU3ju+/ys"
    },
    "kernelspec": {
      "name": "python3",
      "display_name": "Python 3"
    },
    "language_info": {
      "name": "python"
    }
  },
  "cells": [
    {
      "cell_type": "code",
      "metadata": {
        "colab": {
          "base_uri": "https://localhost:8080/"
        },
        "id": "YIcBiUG35J57",
        "outputId": "b1bfd7c9-5832-4a87-f953-bfd233b9fbac"
      },
      "source": [
        "from google.colab import drive\n",
        "drive.mount('/content/drive')"
      ],
      "execution_count": 1,
      "outputs": [
        {
          "output_type": "stream",
          "name": "stdout",
          "text": [
            "Mounted at /content/drive\n"
          ]
        }
      ]
    },
    {
      "cell_type": "code",
      "metadata": {
        "id": "-ZsbHQxmk6om"
      },
      "source": [
        "import time\n",
        "\n",
        "def read_numbers():\n",
        "    with open('/content/drive/MyDrive/AdventOfCode2021/aoc4.txt', 'r') as file:\n",
        "        input = file.read()\n",
        "    data = input.strip('\\n').split('\\n\\n')\n",
        "    return list(map(int, data[0].split(',')))\n",
        "\n",
        "def read_boards():\n",
        "    with open('/content/drive/MyDrive/AdventOfCode2021/aoc4.txt', 'r') as file:\n",
        "        input = file.read()\n",
        "    data = input.strip('\\n').split('\\n\\n')\n",
        "    boards = [[list(map(int, i.split())) for i in b.split('\\n')]\n",
        "                for b in data[1:]]\n",
        "    return boards"
      ],
      "execution_count": 19,
      "outputs": []
    },
    {
      "cell_type": "code",
      "metadata": {
        "id": "r3k0VLAp45qD"
      },
      "source": [
        "def giant_squid():\n",
        "    numbers = read_numbers()\n",
        "    boards = read_boards()\n",
        "    is_winning_board = False\n",
        "    for number in numbers:\n",
        "        for bidx, board in enumerate(boards):\n",
        "            for lidx, line in enumerate(board):\n",
        "                if number in line:\n",
        "                    boards[bidx][lidx] = [None if x == number else x for x in line]\n",
        "                if all(n is None for n in line):\n",
        "                    is_winning_board = True\n",
        "            if is_winning_board != True:\n",
        "                for i in range(len(board)):\n",
        "                    if all(row[i] is None for row in board):\n",
        "                        is_winning_board = True\n",
        "            if is_winning_board == True:\n",
        "                numbers = [e for l in board for e in l]\n",
        "                list_sum = sum(filter(None, numbers))\n",
        "                return list_sum * number"
      ],
      "execution_count": 20,
      "outputs": []
    },
    {
      "cell_type": "code",
      "metadata": {
        "colab": {
          "base_uri": "https://localhost:8080/"
        },
        "id": "zkZbdvQYvh7f",
        "outputId": "1062e9dc-3c8d-404a-8bda-2c6954f48503"
      },
      "source": [
        "start_time = time.time()\n",
        "print(giant_squid())\n",
        "print(\"--- %s seconds ---\" % (time.time() - start_time))"
      ],
      "execution_count": 21,
      "outputs": [
        {
          "output_type": "stream",
          "name": "stdout",
          "text": [
            "35670\n",
            "--- 0.025942564010620117 seconds ---\n"
          ]
        }
      ]
    },
    {
      "cell_type": "code",
      "metadata": {
        "id": "TzDSfgboyJae"
      },
      "source": [
        "numbers = read_numbers()\n",
        "boards = read_boards()\n",
        "\n",
        "def giant_squid2(numbers, boards):\n",
        "    is_winning_board = False    \n",
        "    for n, number in enumerate(numbers):\n",
        "        for idx, board in enumerate(boards):\n",
        "            for lidx, line in enumerate(board):\n",
        "                if number in line:\n",
        "                    boards[idx][lidx] = [None if x == number else x for x in line]\n",
        "                if all(n is None for n in line):\n",
        "                    is_winning_board = True\n",
        "            if is_winning_board != True:\n",
        "                for i in range(len(board)):\n",
        "                    if all(row[i] is None for row in board):\n",
        "                        is_winning_board = True\n",
        "            if is_winning_board == True:\n",
        "                if len(boards) == 1:\n",
        "                    numbers = [e for l in board for e in l]\n",
        "                    list_sum = sum(filter(None, numbers))\n",
        "                    return list_sum * number\n",
        "                else:\n",
        "                    boards = boards[:idx] + boards[idx+1:]\n",
        "                    return giant_squid2(numbers[n:], boards)\n",
        "            \n"
      ],
      "execution_count": 22,
      "outputs": []
    },
    {
      "cell_type": "code",
      "metadata": {
        "colab": {
          "base_uri": "https://localhost:8080/"
        },
        "id": "0KJMWJJMzSJA",
        "outputId": "08d89bfa-e7e7-4b86-fe72-0aa1c9f87739"
      },
      "source": [
        "start_time = time.time()\n",
        "print(giant_squid2(numbers, boards))\n",
        "print(\"--- %s seconds ---\" % (time.time() - start_time))"
      ],
      "execution_count": 23,
      "outputs": [
        {
          "output_type": "stream",
          "name": "stdout",
          "text": [
            "22704\n",
            "--- 0.07767152786254883 seconds ---\n"
          ]
        }
      ]
    }
  ]
}
