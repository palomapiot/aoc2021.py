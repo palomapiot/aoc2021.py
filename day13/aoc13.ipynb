{
  "nbformat": 4,
  "nbformat_minor": 0,
  "metadata": {
    "colab": {
      "name": "AdventOfCode21-13.ipynb",
      "provenance": [],
      "collapsed_sections": [],
      "mount_file_id": "11PzZ2mWO-GmsIB1WKfpicwi0kMwZWUOY",
      "authorship_tag": "ABX9TyMfddZ4qo5pd8bShVQCkK9L"
    },
    "kernelspec": {
      "name": "python3",
      "display_name": "Python 3"
    },
    "language_info": {
      "name": "python"
    }
  },
  "cells": [
    {
      "cell_type": "code",
      "metadata": {
        "id": "YIcBiUG35J57",
        "colab": {
          "base_uri": "https://localhost:8080/"
        },
        "outputId": "46d71249-6dff-4f1f-a863-62232b886b53"
      },
      "source": [
        "from google.colab import drive\n",
        "drive.mount('/content/drive')"
      ],
      "execution_count": 1,
      "outputs": [
        {
          "output_type": "stream",
          "name": "stdout",
          "text": [
            "Mounted at /content/drive\n"
          ]
        }
      ]
    },
    {
      "cell_type": "code",
      "metadata": {
        "id": "qesvEYOr41F-"
      },
      "source": [
        "import time\n",
        "\n",
        "with open('/content/drive/MyDrive/AdventOfCode2021/aoc13.txt', 'r') as file:\n",
        "    data = [x.strip('\\n') for x in file]"
      ],
      "execution_count": 2,
      "outputs": []
    },
    {
      "cell_type": "code",
      "source": [
        "ex = [\n",
        "    '6,10',\n",
        "    '0,14',\n",
        "    '9,10',\n",
        "    '0,3',\n",
        "    '10,4',\n",
        "    '4,11',\n",
        "    '6,0',\n",
        "    '6,12',\n",
        "    '4,1',\n",
        "    '0,13',\n",
        "    '10,12',\n",
        "    '3,4',\n",
        "    '3,0',\n",
        "    '8,4',\n",
        "    '1,10',\n",
        "    '2,14',\n",
        "    '8,10',\n",
        "    '9,0',\n",
        "    '',\n",
        "    'fold along y=7',\n",
        "    'fold along x=5'\n",
        "]"
      ],
      "metadata": {
        "id": "jyLxRo0Y0CdB"
      },
      "execution_count": null,
      "outputs": []
    },
    {
      "cell_type": "code",
      "source": [
        "def transparent_origami():\n",
        "    x_fold = int(data[len(data) - 12].split('x=')[1])\n",
        "    coords = []\n",
        "    for index, item in enumerate(data):\n",
        "        if index < (len(data) - 13):\n",
        "            coords.append((int(data[index].split(',')[0]), int(data[index].split(',')[1])))\n",
        "    \n",
        "    for index, item in enumerate(coords):\n",
        "        if item[0] > x_fold:\n",
        "            coords[index] = (x_fold - (item[0] - x_fold), item[1])\n",
        "\n",
        "    coords = list(set([i for i in coords]))\n",
        "    return len(coords)"
      ],
      "metadata": {
        "id": "ccyZFiHwELhb"
      },
      "execution_count": 3,
      "outputs": []
    },
    {
      "cell_type": "code",
      "metadata": {
        "id": "akelhQXRvRQb",
        "colab": {
          "base_uri": "https://localhost:8080/"
        },
        "outputId": "62ffa9cb-91a2-4b35-dc6c-a74a33095054"
      },
      "source": [
        "start_time = time.time()\n",
        "print(transparent_origami())\n",
        "print(\"--- %s seconds ---\" % (time.time() - start_time))"
      ],
      "execution_count": 4,
      "outputs": [
        {
          "output_type": "stream",
          "name": "stdout",
          "text": [
            "788\n",
            "--- 0.0032625198364257812 seconds ---\n"
          ]
        }
      ]
    },
    {
      "cell_type": "code",
      "metadata": {
        "id": "96FbY910vyQm"
      },
      "source": [
        "def transparent_origami2():\n",
        "    x_folds = []\n",
        "    y_folds = []\n",
        "    for i in reversed(data):\n",
        "        if 'x=' in i:\n",
        "            x_folds.append(int(i.split('x=')[1]))\n",
        "        if 'y=' in i:\n",
        "            y_folds.append(int(i.split('y=')[1]))\n",
        "    x_folds.reverse()\n",
        "    y_folds.reverse()\n",
        "\n",
        "    coords = []\n",
        "    for index, item in enumerate(data):\n",
        "        if index < (len(data) - 13):\n",
        "            coords.append((int(data[index].split(',')[0]), int(data[index].split(',')[1])))\n",
        "    \n",
        "    for y_fold in y_folds:\n",
        "        for index, item in enumerate(coords):\n",
        "            if item[1] > y_fold:\n",
        "                coords[index] = (item[0], y_fold - (item[1] - y_fold))\n",
        "    \n",
        "    for x_fold in x_folds:\n",
        "        for index, item in enumerate(coords):\n",
        "            if item[0] > x_fold:\n",
        "                coords[index] = (x_fold - (item[0] - x_fold), item[1])\n",
        "\n",
        "    for y in range(y_folds[len(y_folds) - 1]):\n",
        "        print('\\n')\n",
        "        for x in range(x_folds[len(x_folds) - 1]):\n",
        "            if (x,y) in coords:\n",
        "                print('#', end='')\n",
        "            else:\n",
        "                print('.', end='')\n",
        "\n",
        "    print('\\n')"
      ],
      "execution_count": 7,
      "outputs": []
    },
    {
      "cell_type": "code",
      "metadata": {
        "colab": {
          "base_uri": "https://localhost:8080/"
        },
        "id": "4zooMN1MtrBx",
        "outputId": "662ea312-3f3b-46df-d8dd-cb2d616dfdf1"
      },
      "source": [
        "start_time = time.time()\n",
        "transparent_origami2() # KJBKEUBG\n",
        "print(\"--- %s seconds ---\" % (time.time() - start_time))"
      ],
      "execution_count": 9,
      "outputs": [
        {
          "output_type": "stream",
          "name": "stdout",
          "text": [
            "\n",
            "\n",
            "#..#...##.###..#..#.####.#..#.###...##..\n",
            "\n",
            "#.#.....#.#..#.#.#..#....#..#.#..#.#..#.\n",
            "\n",
            "##......#.###..##...###..#..#.###..#....\n",
            "\n",
            "#.#.....#.#..#.#.#..#....#..#.#..#.#.##.\n",
            "\n",
            "#.#..#..#.#..#.#.#..#....#..#.#..#.#..#.\n",
            "\n",
            "#..#..##..###..#..#.####..##..###...###.\n",
            "\n",
            "--- 0.05104994773864746 seconds ---\n"
          ]
        }
      ]
    }
  ]
}
