{
  "nbformat": 4,
  "nbformat_minor": 0,
  "metadata": {
    "colab": {
      "name": "AdventOfCode21-17.ipynb",
      "provenance": [],
      "collapsed_sections": [],
      "mount_file_id": "11PzZ2mWO-GmsIB1WKfpicwi0kMwZWUOY",
      "authorship_tag": "ABX9TyMnR4hOflagBKupp3QS9PAP"
    },
    "kernelspec": {
      "name": "python3",
      "display_name": "Python 3"
    },
    "language_info": {
      "name": "python"
    }
  },
  "cells": [
    {
      "cell_type": "code",
      "metadata": {
        "id": "YIcBiUG35J57",
        "colab": {
          "base_uri": "https://localhost:8080/"
        },
        "outputId": "d592c725-80c2-4f1a-9607-0fd0d962229e"
      },
      "source": [
        "from google.colab import drive\n",
        "drive.mount('/content/drive')"
      ],
      "execution_count": 1,
      "outputs": [
        {
          "output_type": "stream",
          "name": "stdout",
          "text": [
            "Mounted at /content/drive\n"
          ]
        }
      ]
    },
    {
      "cell_type": "code",
      "source": [
        "import time\n",
        "input = 'target area: x=209..238, y=-86..-59'"
      ],
      "metadata": {
        "id": "Z2jFNinyHTVQ"
      },
      "execution_count": 3,
      "outputs": []
    },
    {
      "cell_type": "code",
      "source": [
        "def trick_shot():\n",
        "    return ( (abs(-86)-1) * (abs(-86)-1) + (abs(-86)-1) ) // 2"
      ],
      "metadata": {
        "id": "N5xm2bMPVmR0"
      },
      "execution_count": 130,
      "outputs": []
    },
    {
      "cell_type": "code",
      "metadata": {
        "id": "akelhQXRvRQb",
        "colab": {
          "base_uri": "https://localhost:8080/"
        },
        "outputId": "8ef9e0da-1836-4d2e-a636-17055d3b73b3"
      },
      "source": [
        "start_time = time.time()\n",
        "print(trick_shot()) # 3655\n",
        "print(\"--- %s seconds ---\" % (time.time() - start_time))"
      ],
      "execution_count": 131,
      "outputs": [
        {
          "output_type": "stream",
          "name": "stdout",
          "text": [
            "3655\n",
            "--- 0.00013065338134765625 seconds ---\n"
          ]
        }
      ]
    },
    {
      "cell_type": "code",
      "source": [
        "def sumation(n):\n",
        "    return (n * n + n) // 2"
      ],
      "metadata": {
        "id": "_99HWfJOGrky"
      },
      "execution_count": 122,
      "outputs": []
    },
    {
      "cell_type": "code",
      "source": [
        "def min_x(x1):\n",
        "    n = 0\n",
        "    while True:\n",
        "        if sumation(n) >= x1:\n",
        "            return n\n",
        "        n += 1"
      ],
      "metadata": {
        "id": "TgE22IG_GXcK"
      },
      "execution_count": 123,
      "outputs": []
    },
    {
      "cell_type": "code",
      "source": [
        "def probe(x, y, x1, x2, y1, y2):\n",
        "    x_pos, y_pos = 0, 0\n",
        "    while True:\n",
        "        if x_pos >= x1 and x_pos <= x2 and y_pos >= y1 and y_pos <= y2:\n",
        "            return 1\n",
        "        elif x_pos > x2 or y_pos < y1:\n",
        "            return 0\n",
        "        x_pos = x_pos + x\n",
        "        y_pos = y_pos + y\n",
        "        if x > 0:\n",
        "            x -= 1\n",
        "        elif x < 0:\n",
        "            x += 1\n",
        "        y -= 1"
      ],
      "metadata": {
        "id": "fylCIP9u9nug"
      },
      "execution_count": 127,
      "outputs": []
    },
    {
      "cell_type": "code",
      "source": [
        "def trick_shot2():\n",
        "    x1, x2 = 209, 238\n",
        "    y1, y2 = -86, -59\n",
        "    total = 0\n",
        "    for x in range(min_x(x1), x2 + 1):\n",
        "        for y in range(-86, 3655 + 1):\n",
        "            total += probe(x, y, x1, x2, y1, y2)\n",
        "    return total"
      ],
      "metadata": {
        "id": "oARGajCacpFn"
      },
      "execution_count": 128,
      "outputs": []
    },
    {
      "cell_type": "code",
      "metadata": {
        "colab": {
          "base_uri": "https://localhost:8080/"
        },
        "id": "4zooMN1MtrBx",
        "outputId": "f619808d-eb10-409d-9996-adc82eaddd42"
      },
      "source": [
        "start_time = time.time()\n",
        "print(trick_shot2()) # 1447\n",
        "print(\"--- %s seconds ---\" % (time.time() - start_time))"
      ],
      "execution_count": 129,
      "outputs": [
        {
          "output_type": "stream",
          "name": "stdout",
          "text": [
            "1447\n",
            "--- 10.527599811553955 seconds ---\n"
          ]
        }
      ]
    }
  ]
}
