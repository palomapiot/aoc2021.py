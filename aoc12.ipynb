{
  "nbformat": 4,
  "nbformat_minor": 0,
  "metadata": {
    "colab": {
      "name": "AdventOfCode21-12.ipynb",
      "provenance": [],
      "collapsed_sections": [],
      "mount_file_id": "11PzZ2mWO-GmsIB1WKfpicwi0kMwZWUOY",
      "authorship_tag": "ABX9TyNJ8S3EcbC/k4aL1cGdIZdy"
    },
    "kernelspec": {
      "name": "python3",
      "display_name": "Python 3"
    },
    "language_info": {
      "name": "python"
    }
  },
  "cells": [
    {
      "cell_type": "code",
      "metadata": {
        "id": "YIcBiUG35J57",
        "colab": {
          "base_uri": "https://localhost:8080/"
        },
        "outputId": "5d01faf2-64a0-4cab-b2c6-8b0334fb9047"
      },
      "source": [
        "from google.colab import drive\n",
        "drive.mount('/content/drive')"
      ],
      "execution_count": 1,
      "outputs": [
        {
          "output_type": "stream",
          "name": "stdout",
          "text": [
            "Mounted at /content/drive\n"
          ]
        }
      ]
    },
    {
      "cell_type": "code",
      "metadata": {
        "id": "qesvEYOr41F-"
      },
      "source": [
        "import time\n",
        "\n",
        "with open('/content/drive/MyDrive/AdventOfCode2021/aoc12.txt', 'r') as file:\n",
        "    data = [x.strip('\\n') for x in file]"
      ],
      "execution_count": 2,
      "outputs": []
    },
    {
      "cell_type": "code",
      "source": [
        "ex = [\n",
        "    'fs-end',\n",
        "    'he-DX',\n",
        "    'fs-he',\n",
        "    'start-DX',\n",
        "    'pj-DX',\n",
        "    'end-zg',\n",
        "    'zg-sl',\n",
        "    'zg-pj',\n",
        "    'pj-he',\n",
        "    'RW-he',\n",
        "    'fs-DX',\n",
        "    'pj-RW',\n",
        "    'zg-RW',\n",
        "    'start-pj',\n",
        "    'he-WI',\n",
        "    'zg-he',\n",
        "    'pj-fs',\n",
        "    'start-RW'\n",
        "]"
      ],
      "metadata": {
        "id": "jyLxRo0Y0CdB"
      },
      "execution_count": 3,
      "outputs": []
    },
    {
      "cell_type": "code",
      "source": [
        "graph_input = {}\n",
        "for l in data:\n",
        "    graph_input.setdefault(l.split('-')[0], []).append(l.split('-')[1])\n",
        "    graph_input.setdefault(l.split('-')[1], []).append(l.split('-')[0])"
      ],
      "metadata": {
        "id": "w2fXFZswFhrq"
      },
      "execution_count": 4,
      "outputs": []
    },
    {
      "cell_type": "code",
      "source": [
        "def passage_pathing(graph, start, end, path=[]):\n",
        "    path = path + [start]\n",
        "    if start == end:\n",
        "        return [path]\n",
        "    if start not in graph:\n",
        "        return []\n",
        "    paths = []\n",
        "    for node in graph[start]:\n",
        "        if (node.islower() and node not in path) or node.isupper():\n",
        "            newpaths = passage_pathing(graph, node, end, path)\n",
        "            for newpath in newpaths:\n",
        "                paths.append(newpath)\n",
        "    return paths"
      ],
      "metadata": {
        "id": "ccyZFiHwELhb"
      },
      "execution_count": 5,
      "outputs": []
    },
    {
      "cell_type": "code",
      "metadata": {
        "id": "akelhQXRvRQb",
        "colab": {
          "base_uri": "https://localhost:8080/"
        },
        "outputId": "998a2dc6-0b3b-4b1f-d773-54e753ac6d9f"
      },
      "source": [
        "start_time = time.time()\n",
        "print(len(passage_pathing(graph_input, 'start', 'end')))\n",
        "print(\"--- %s seconds ---\" % (time.time() - start_time))"
      ],
      "execution_count": 6,
      "outputs": [
        {
          "output_type": "stream",
          "name": "stdout",
          "text": [
            "3510\n",
            "--- 0.03402972221374512 seconds ---\n"
          ]
        }
      ]
    },
    {
      "cell_type": "code",
      "metadata": {
        "id": "96FbY910vyQm"
      },
      "source": [
        "def passage_pathing2(graph, start, end, path=[], small_visited_2 = False):\n",
        "    path = path + [start]\n",
        "    if start == end:\n",
        "        return [path]\n",
        "    if start not in graph:\n",
        "        return []\n",
        "    paths = []\n",
        "    for node in graph[start]:\n",
        "        if (node.islower() and node not in path) or node.isupper():\n",
        "            newpaths = passage_pathing2(graph, node, end, path, small_visited_2)\n",
        "            for newpath in newpaths:\n",
        "                paths.append(newpath)\n",
        "        elif node != 'start' and node != 'end' and node.islower() and node in path and small_visited_2 == False:\n",
        "            newpaths = passage_pathing2(graph, node, end, path, True)\n",
        "            for newpath in newpaths:\n",
        "                paths.append(newpath)\n",
        "    return paths"
      ],
      "execution_count": 7,
      "outputs": []
    },
    {
      "cell_type": "code",
      "metadata": {
        "colab": {
          "base_uri": "https://localhost:8080/"
        },
        "id": "4zooMN1MtrBx",
        "outputId": "8a894896-3232-4763-ed1c-8b4fa412ab57"
      },
      "source": [
        "start_time = time.time()\n",
        "print(len(passage_pathing2(graph_input, 'start', 'end')))\n",
        "print(\"--- %s seconds ---\" % (time.time() - start_time))"
      ],
      "execution_count": 8,
      "outputs": [
        {
          "output_type": "stream",
          "name": "stdout",
          "text": [
            "122880\n",
            "--- 1.3637819290161133 seconds ---\n"
          ]
        }
      ]
    }
  ]
}