{
  "nbformat": 4,
  "nbformat_minor": 0,
  "metadata": {
    "colab": {
      "name": "AdventOfCode21-5.ipynb",
      "provenance": [],
      "collapsed_sections": [],
      "mount_file_id": "11PzZ2mWO-GmsIB1WKfpicwi0kMwZWUOY",
      "authorship_tag": "ABX9TyPXzS22EPQGaaGXKMMR6zRH"
    },
    "kernelspec": {
      "name": "python3",
      "display_name": "Python 3"
    },
    "language_info": {
      "name": "python"
    }
  },
  "cells": [
    {
      "cell_type": "code",
      "metadata": {
        "colab": {
          "base_uri": "https://localhost:8080/"
        },
        "id": "YIcBiUG35J57",
        "outputId": "ed4b6d47-14b6-42cb-ec91-e1b0c13841fe"
      },
      "source": [
        "from google.colab import drive\n",
        "drive.mount('/content/drive')"
      ],
      "execution_count": 1,
      "outputs": [
        {
          "output_type": "stream",
          "name": "stdout",
          "text": [
            "Mounted at /content/drive\n"
          ]
        }
      ]
    },
    {
      "cell_type": "code",
      "metadata": {
        "id": "qesvEYOr41F-"
      },
      "source": [
        "import time\n",
        "\n",
        "with open('/content/drive/MyDrive/AdventOfCode2021/aoc5.txt', 'r') as file:\n",
        "    data = [x.strip('\\n') for x in file]"
      ],
      "execution_count": 2,
      "outputs": []
    },
    {
      "cell_type": "code",
      "metadata": {
        "id": "r3k0VLAp45qD"
      },
      "source": [
        "def hydrothermal_venture():\n",
        "    cells = [[0 for i in range(1000)] for j in range(1000)]\n",
        "\n",
        "    for idx, item in enumerate(data):\n",
        "        x1y1 = item.split('->')[0].strip()\n",
        "        x2y2 = item.split('->')[1].strip()\n",
        "        x1 = int(x1y1.split(',')[0])\n",
        "        x2 = int(x2y2.split(',')[0])\n",
        "        y1 = int(x1y1.split(',')[1])\n",
        "        y2 = int(x2y2.split(',')[1])\n",
        "\n",
        "        if x1 == x2:\n",
        "            if y1 < y2:\n",
        "                for i in range(y1, y2 + 1):\n",
        "                    cells[x1][i] = cells[x1][i] + 1\n",
        "            elif y2 < y1:\n",
        "                for i in range(y2, y1 + 1):\n",
        "                    cells[x1][i] = cells[x1][i] + 1\n",
        "            else:\n",
        "                cells[x1][y1] = cells[x1][y1] + 1\n",
        "        elif y1 == y2:\n",
        "            if x1 < x2:\n",
        "                for i in range(x1, x2 + 1):\n",
        "                    cells[i][y1] = cells[i][y1] + 1\n",
        "            elif x2 < x1:\n",
        "                for i in range(x2, x1 + 1):\n",
        "                    cells[i][y1] = cells[i][y1] + 1\n",
        "            else:\n",
        "                cells[x1][y1] = cells[x1][y1] + 1\n",
        "    count = 0\n",
        "    for cell in cells:\n",
        "        count += sum(x > 1 for x in cell)\n",
        "    return count"
      ],
      "execution_count": 3,
      "outputs": []
    },
    {
      "cell_type": "code",
      "metadata": {
        "colab": {
          "base_uri": "https://localhost:8080/"
        },
        "id": "akelhQXRvRQb",
        "outputId": "196ed20d-06f6-4b9d-ab63-effc16dc815c"
      },
      "source": [
        "start_time = time.time()\n",
        "print(hydrothermal_venture())\n",
        "print(\"--- %s seconds ---\" % (time.time() - start_time))"
      ],
      "execution_count": 4,
      "outputs": [
        {
          "output_type": "stream",
          "name": "stdout",
          "text": [
            "5145\n",
            "--- 0.16826868057250977 seconds ---\n"
          ]
        }
      ]
    },
    {
      "cell_type": "code",
      "metadata": {
        "id": "fCMcEDJi1vQo"
      },
      "source": [
        "def hydrothermal_venture2():\n",
        "    cells = [[0 for i in range(1000)] for j in range(1000)]\n",
        "\n",
        "    for idx, item in enumerate(data):\n",
        "        x1y1 = item.split('->')[0].strip()\n",
        "        x2y2 = item.split('->')[1].strip()\n",
        "        x1 = int(x1y1.split(',')[0])\n",
        "        x2 = int(x2y2.split(',')[0])\n",
        "        y1 = int(x1y1.split(',')[1])\n",
        "        y2 = int(x2y2.split(',')[1])\n",
        "\n",
        "        if x1 == x2:\n",
        "            if y1 < y2:\n",
        "                for i in range(y1, y2 + 1):\n",
        "                    cells[x1][i] = cells[x1][i] + 1\n",
        "            elif y2 < y1:\n",
        "                for i in range(y2, y1 + 1):\n",
        "                    cells[x1][i] = cells[x1][i] + 1\n",
        "            else:\n",
        "                cells[x1][y1] = cells[x1][y1] + 1\n",
        "        elif y1 == y2:\n",
        "            if x1 < x2:\n",
        "                for i in range(x1, x2 + 1):\n",
        "                    cells[i][y1] = cells[i][y1] + 1\n",
        "            elif x2 < x1:\n",
        "                for i in range(x2, x1 + 1):\n",
        "                    cells[i][y1] = cells[i][y1] + 1\n",
        "            else:\n",
        "                cells[x1][y1] = cells[x1][y1] + 1\n",
        "\n",
        "        else:\n",
        "            if x1 < x2 and y1 < y2:\n",
        "                idx = 0\n",
        "                for i in range(x1, x2 + 1):\n",
        "                    cells[i][y1 + idx] = cells[i][y1 + idx] + 1\n",
        "                    idx += 1\n",
        "            if x1 < x2 and y1 > y2:\n",
        "                idx = 0\n",
        "                for i in range(x1, x2 + 1):\n",
        "                    cells[i][y1 - idx] = cells[i][y1 - idx] + 1\n",
        "                    idx += 1\n",
        "\n",
        "            if y1 > y2 and x1 > x2:\n",
        "                idx = 0\n",
        "                for i in range(y2, y1 + 1):\n",
        "                    cells[x2 + idx][i] = cells[x2 + idx][i] + 1\n",
        "                    idx += 1\n",
        "            if y1 < y2 and x1 > x2:\n",
        "                idx = 0\n",
        "                for i in range(y1, y2 + 1):\n",
        "                    cells[x1 - idx][i] = cells[x1 - idx][i] + 1\n",
        "                    idx += 1\n",
        "    count = 0\n",
        "    for cell in cells:\n",
        "        count += sum(x > 1 for x in cell)\n",
        "    return count"
      ],
      "execution_count": 5,
      "outputs": []
    },
    {
      "cell_type": "code",
      "metadata": {
        "colab": {
          "base_uri": "https://localhost:8080/"
        },
        "id": "Q1rY_Luz1y_D",
        "outputId": "02f13dfd-e3b1-426a-e9c6-85aba6e6ca7a"
      },
      "source": [
        "start_time = time.time()\n",
        "print(hydrothermal_venture2())\n",
        "print(\"--- %s seconds ---\" % (time.time() - start_time))"
      ],
      "execution_count": 6,
      "outputs": [
        {
          "output_type": "stream",
          "name": "stdout",
          "text": [
            "16518\n",
            "--- 0.2071526050567627 seconds ---\n"
          ]
        }
      ]
    }
  ]
}