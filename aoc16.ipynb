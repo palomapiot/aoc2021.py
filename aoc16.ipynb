{
  "nbformat": 4,
  "nbformat_minor": 0,
  "metadata": {
    "colab": {
      "name": "AdventOfCode21-16.ipynb",
      "provenance": [],
      "collapsed_sections": [],
      "mount_file_id": "11PzZ2mWO-GmsIB1WKfpicwi0kMwZWUOY",
      "authorship_tag": "ABX9TyPGTkitXaOJvyO1GS1dxsXA"
    },
    "kernelspec": {
      "name": "python3",
      "display_name": "Python 3"
    },
    "language_info": {
      "name": "python"
    }
  },
  "cells": [
    {
      "cell_type": "code",
      "metadata": {
        "id": "YIcBiUG35J57",
        "colab": {
          "base_uri": "https://localhost:8080/"
        },
        "outputId": "4618ff4a-2327-4ab4-8d7b-7742c60c1a39"
      },
      "source": [
        "from google.colab import drive\n",
        "drive.mount('/content/drive')"
      ],
      "execution_count": 1,
      "outputs": [
        {
          "output_type": "stream",
          "name": "stdout",
          "text": [
            "Mounted at /content/drive\n"
          ]
        }
      ]
    },
    {
      "cell_type": "code",
      "metadata": {
        "id": "qesvEYOr41F-"
      },
      "source": [
        "import time\n",
        "\n",
        "with open('/content/drive/MyDrive/AdventOfCode2021/aoc16.txt', 'r') as file:\n",
        "    data = [x for x in file]"
      ],
      "execution_count": 2,
      "outputs": []
    },
    {
      "cell_type": "code",
      "source": [
        "hex_to_binary_map = {\n",
        "    '0': '0000',\n",
        "    '1': '0001',\n",
        "    '2': '0010',\n",
        "    '3': '0011',\n",
        "    '4': '0100',\n",
        "    '5': '0101',\n",
        "    '6': '0110',\n",
        "    '7': '0111',\n",
        "    '8': '1000',\n",
        "    '9': '1001',\n",
        "    'A': '1010',\n",
        "    'B': '1011',\n",
        "    'C': '1100',\n",
        "    'D': '1101',\n",
        "    'E': '1110',\n",
        "    'F': '1111'\n",
        "}\n",
        "\n",
        "def hex_to_binary(hex_string):\n",
        "    binary_string = \"\"\n",
        "    for character in hex_string:\n",
        "        binary_string += hex_to_binary_map[character]\n",
        "    return binary_string\n"
      ],
      "metadata": {
        "id": "pK4jAIt20cat"
      },
      "execution_count": 3,
      "outputs": []
    },
    {
      "cell_type": "code",
      "source": [
        "def literal_value(packet_binary):\n",
        "    groups = [packet_binary[i:i+5] for i in range(0, len(packet_binary), 5)]\n",
        "    groups4 = [g[1:] for g in groups]\n",
        "    binary = ''.join(groups4)\n",
        "    return int(binary, 2)"
      ],
      "metadata": {
        "id": "LL_3DxcqvKza"
      },
      "execution_count": 4,
      "outputs": []
    },
    {
      "cell_type": "code",
      "source": [
        "def packet_decoder(packet):\n",
        "    actual_pos = 0\n",
        "    binary_data = hex_to_binary(packet[0])\n",
        "    return packet_decoder_rec(actual_pos, binary_data) # 977"
      ],
      "metadata": {
        "id": "0ITAIhJwZFEq"
      },
      "execution_count": 5,
      "outputs": []
    },
    {
      "cell_type": "code",
      "source": [
        "def packet_decoder_rec(pos, binary_data):\n",
        "    version = int(binary_data[pos:pos+3], 2)\n",
        "    type_id = int(binary_data[pos+3:pos+6], 2)\n",
        "    actual_pos = pos + 6\n",
        "    \n",
        "    if type_id == 4:\n",
        "        for i in range(actual_pos, len(binary_data), 5):\n",
        "            if binary_data[i] == '0':\n",
        "                literal_value(binary_data[actual_pos:i+5])\n",
        "                actual_pos = i + 5\n",
        "                return actual_pos, version\n",
        "    else:\n",
        "        length_type_id = binary_data[actual_pos]\n",
        "        actual_pos += 1\n",
        "        if length_type_id == '0':\n",
        "            total_length_sub_packets = int(binary_data[actual_pos:actual_pos+15], 2)\n",
        "            actual_pos +=15\n",
        "            end = actual_pos + total_length_sub_packets\n",
        "\n",
        "            while actual_pos < end:\n",
        "                actual_pos, v_aux = packet_decoder_rec(actual_pos, binary_data)\n",
        "                version += v_aux\n",
        "            return actual_pos, version\n",
        "        else:\n",
        "            n_sub_packet = int(binary_data[actual_pos:actual_pos+11], 2)\n",
        "            actual_pos += 11\n",
        "            for i in range(n_sub_packet):\n",
        "                actual_pos, v_aux = packet_decoder_rec(actual_pos, binary_data)\n",
        "                version += v_aux\n",
        "            return actual_pos, version\n",
        "    return actual_pos, version"
      ],
      "metadata": {
        "id": "N5xm2bMPVmR0"
      },
      "execution_count": 8,
      "outputs": []
    },
    {
      "cell_type": "code",
      "metadata": {
        "id": "akelhQXRvRQb",
        "colab": {
          "base_uri": "https://localhost:8080/"
        },
        "outputId": "bcddabad-ee76-4d10-e33f-a282c37c5988"
      },
      "source": [
        "start_time = time.time()\n",
        "print(packet_decoder(data))\n",
        "print(\"--- %s seconds ---\" % (time.time() - start_time))"
      ],
      "execution_count": 9,
      "outputs": [
        {
          "output_type": "stream",
          "name": "stdout",
          "text": [
            "(5476, 977)\n",
            "--- 0.002231121063232422 seconds ---\n"
          ]
        }
      ]
    },
    {
      "cell_type": "code",
      "metadata": {
        "id": "96FbY910vyQm"
      },
      "source": [
        "def packet_decoder2(packet):\n",
        "    actual_pos = 0\n",
        "    binary_data = hex_to_binary(packet[0])\n",
        "    return packet_decoder_rec2(actual_pos, binary_data)"
      ],
      "execution_count": 10,
      "outputs": []
    },
    {
      "cell_type": "code",
      "source": [
        "import numpy\n",
        "\n",
        "def packet_decoder_rec2(pos, binary_data):\n",
        "    values = []\n",
        "    type_id = int(binary_data[pos+3:pos+6], 2)\n",
        "    actual_pos = pos + 6\n",
        "    \n",
        "    if type_id == 4:\n",
        "        for i in range(actual_pos, len(binary_data), 5):\n",
        "            if binary_data[i] == '0':\n",
        "                value = literal_value(binary_data[actual_pos:i+5])\n",
        "                actual_pos = i + 5\n",
        "                return actual_pos, value\n",
        "    else:\n",
        "        length_type_id = binary_data[actual_pos]\n",
        "        actual_pos += 1\n",
        "        if length_type_id == '0':\n",
        "            total_length_sub_packets = int(binary_data[actual_pos:actual_pos+15], 2)\n",
        "            actual_pos +=15\n",
        "            end = actual_pos + total_length_sub_packets\n",
        "\n",
        "            while actual_pos < end:\n",
        "                actual_pos, value = packet_decoder_rec2(actual_pos, binary_data)\n",
        "                values.append(value)\n",
        "        else:\n",
        "            n_sub_packet = int(binary_data[actual_pos:actual_pos+11], 2)\n",
        "            actual_pos += 11\n",
        "            for i in range(n_sub_packet):\n",
        "                actual_pos, value = packet_decoder_rec2(actual_pos, binary_data)\n",
        "                values.append(value)\n",
        "        if type_id == 0:\n",
        "            return actual_pos, sum(values)\n",
        "        elif type_id == 1:\n",
        "            return actual_pos, numpy.prod(values)\n",
        "        elif type_id == 2:\n",
        "            return actual_pos, min(values)\n",
        "        elif type_id == 3:\n",
        "            return actual_pos, max(values)\n",
        "        elif type_id == 5:\n",
        "            val = 0\n",
        "            if values[0] > values[1]:\n",
        "                val = 1\n",
        "            return actual_pos, val\n",
        "        elif type_id == 6:\n",
        "            val = 0\n",
        "            if values[0] < values[1]:\n",
        "                val = 1\n",
        "            return actual_pos, val\n",
        "        elif type_id == 7:\n",
        "            val = 0\n",
        "            if values[0] == values[1]:\n",
        "                val = 1\n",
        "            return actual_pos, val\n",
        "    return actual_pos, values"
      ],
      "metadata": {
        "id": "oARGajCacpFn"
      },
      "execution_count": 11,
      "outputs": []
    },
    {
      "cell_type": "code",
      "metadata": {
        "colab": {
          "base_uri": "https://localhost:8080/"
        },
        "id": "4zooMN1MtrBx",
        "outputId": "e7d74a63-8169-4098-c57d-adfe0b8a803a"
      },
      "source": [
        "start_time = time.time()\n",
        "print(packet_decoder2(data))\n",
        "print(\"--- %s seconds ---\" % (time.time() - start_time))"
      ],
      "execution_count": 12,
      "outputs": [
        {
          "output_type": "stream",
          "name": "stdout",
          "text": [
            "(5476, 101501020883)\n",
            "--- 0.008024454116821289 seconds ---\n"
          ]
        }
      ]
    }
  ]
}