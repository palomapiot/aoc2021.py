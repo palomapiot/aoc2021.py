{
  "nbformat": 4,
  "nbformat_minor": 0,
  "metadata": {
    "colab": {
      "name": "AdventOfCode21-24.ipynb",
      "provenance": [],
      "collapsed_sections": [],
      "mount_file_id": "11PzZ2mWO-GmsIB1WKfpicwi0kMwZWUOY",
      "authorship_tag": "ABX9TyNzVzkqdnM4zRvWfqEKEzpK"
    },
    "kernelspec": {
      "name": "python3",
      "display_name": "Python 3"
    },
    "language_info": {
      "name": "python"
    }
  },
  "cells": [
    {
      "cell_type": "code",
      "metadata": {
        "id": "YIcBiUG35J57",
        "colab": {
          "base_uri": "https://localhost:8080/"
        },
        "outputId": "d9562be5-e942-4538-b784-ba6260f27781"
      },
      "source": [
        "from google.colab import drive\n",
        "drive.mount('/content/drive')"
      ],
      "execution_count": null,
      "outputs": [
        {
          "output_type": "stream",
          "name": "stdout",
          "text": [
            "Mounted at /content/drive\n"
          ]
        }
      ]
    },
    {
      "cell_type": "code",
      "source": [
        "!pip install z3-solver"
      ],
      "metadata": {
        "colab": {
          "base_uri": "https://localhost:8080/",
          "height": 191
        },
        "id": "pT-YjIIoqLR5",
        "outputId": "7e22e394-a9d2-4130-8ae7-6a89e4568afd"
      },
      "execution_count": null,
      "outputs": [
        {
          "output_type": "stream",
          "name": "stdout",
          "text": [
            "Collecting z3-solver\n",
            "  Downloading z3_solver-4.8.14.0-py2.py3-none-manylinux1_x86_64.whl (33.0 MB)\n",
            "\u001b[K     |████████████████████████████████| 33.0 MB 269 kB/s \n",
            "\u001b[?25hInstalling collected packages: z3-solver\n",
            "Successfully installed z3-solver-4.8.14.0\n"
          ]
        },
        {
          "output_type": "display_data",
          "data": {
            "application/vnd.colab-display-data+json": {
              "pip_warning": {
                "packages": [
                  "z3"
                ]
              }
            }
          },
          "metadata": {}
        }
      ]
    },
    {
      "cell_type": "code",
      "metadata": {
        "id": "qesvEYOr41F-"
      },
      "source": [
        "import time\n",
        "\n",
        "with open('/content/drive/MyDrive/AdventOfCode2021/aoc24.txt', 'r') as file:\n",
        "    data = [x.strip('\\n').split() for x in file]"
      ],
      "execution_count": null,
      "outputs": []
    },
    {
      "cell_type": "code",
      "source": [
        "from z3 import *\n",
        "def arithmetic_logic_unit(operations, is_max):\n",
        "    solver = Optimize()\n",
        "    digits = [z3.BitVec(i, 64) for i in range(14)]\n",
        "    for d in digits:\n",
        "        solver.add(1 <= d)\n",
        "        solver.add(d <= 9)\n",
        "    digit_pos = 0\n",
        "    zero, one = z3.BitVecVal(0, 64), z3.BitVecVal(1, 64)\n",
        "    vars = {'w': zero,  'x': zero, 'y': zero, 'z': zero}\n",
        "\n",
        "    for i, instruction in enumerate(operations):\n",
        "        op = instruction[0]\n",
        "        a = instruction[1]\n",
        "        if op == 'inp':\n",
        "            vars[a] = digits[digit_pos]\n",
        "            digit_pos += 1\n",
        "        else:\n",
        "            b = instruction[2]\n",
        "            if b in vars:\n",
        "                b = vars[b]\n",
        "            else:\n",
        "                b = int(b)\n",
        "            c = z3.BitVec(f'v_{i}', 64)\n",
        "            if op == 'add':\n",
        "                solver.add(c == vars[a] + b)\n",
        "            elif op == 'mul':\n",
        "                solver.add(c == vars[a] * b)\n",
        "            elif op == 'div':\n",
        "                solver.add(b != 0)\n",
        "                solver.add(c == vars[a] / b)\n",
        "            elif op == 'mod':\n",
        "                solver.add(vars[a] >= 0)\n",
        "                solver.add(b > 0)\n",
        "                solver.add(c == vars[a] % b)\n",
        "            elif op == 'eql':\n",
        "                solver.add(c == z3.If(vars[a] == b, one, zero))\n",
        "            vars[a] = c\n",
        "    solver.add(vars['z'] == 0)\n",
        "\n",
        "    if is_max == True:\n",
        "        solver.maximize(sum(i * d for i, d in enumerate(digits[::-1])))\n",
        "    else:\n",
        "        solver.minimize(sum(i * d for i, d in enumerate(digits[::-1])))\n",
        "    solver.check()\n",
        "    m = solver.model()\n",
        "    return ''.join([str(m[d]) for d in digits])"
      ],
      "metadata": {
        "id": "ikRY9PocY5rJ"
      },
      "execution_count": null,
      "outputs": []
    },
    {
      "cell_type": "code",
      "metadata": {
        "id": "akelhQXRvRQb",
        "colab": {
          "base_uri": "https://localhost:8080/"
        },
        "outputId": "8e75b875-ddbc-492c-bc92-7d7ad198cde1"
      },
      "source": [
        "start_time = time.time()\n",
        "print(arithmetic_logic_unit(data, True))\n",
        "print(\"--- %s seconds ---\" % (time.time() - start_time))"
      ],
      "execution_count": null,
      "outputs": [
        {
          "output_type": "stream",
          "name": "stdout",
          "text": [
            "94992994195998\n",
            "--- 13.023061037063599 seconds ---\n"
          ]
        }
      ]
    },
    {
      "cell_type": "code",
      "metadata": {
        "colab": {
          "base_uri": "https://localhost:8080/"
        },
        "id": "4zooMN1MtrBx",
        "outputId": "2a25938c-4cfb-49a0-aca7-f530d0847fe2"
      },
      "source": [
        "start_time = time.time()\n",
        "print(arithmetic_logic_unit(data, False))\n",
        "print(\"--- %s seconds ---\" % (time.time() - start_time))"
      ],
      "execution_count": null,
      "outputs": [
        {
          "output_type": "stream",
          "name": "stdout",
          "text": [
            "21191861151161\n",
            "--- 14.826415538787842 seconds ---\n"
          ]
        }
      ]
    }
  ]
}
