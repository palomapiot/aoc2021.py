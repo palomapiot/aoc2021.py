{
  "nbformat": 4,
  "nbformat_minor": 0,
  "metadata": {
    "colab": {
      "name": "AdventOfCode21-10.ipynb",
      "provenance": [],
      "collapsed_sections": [],
      "mount_file_id": "11PzZ2mWO-GmsIB1WKfpicwi0kMwZWUOY",
      "authorship_tag": "ABX9TyNFN6ZDwnq8N+rtzFZZmisV"
    },
    "kernelspec": {
      "name": "python3",
      "display_name": "Python 3"
    },
    "language_info": {
      "name": "python"
    }
  },
  "cells": [
    {
      "cell_type": "code",
      "metadata": {
        "id": "YIcBiUG35J57",
        "colab": {
          "base_uri": "https://localhost:8080/"
        },
        "outputId": "8a57c292-f930-4e06-a9aa-6e7e3cb79758"
      },
      "source": [
        "from google.colab import drive\n",
        "drive.mount('/content/drive')"
      ],
      "execution_count": 1,
      "outputs": [
        {
          "output_type": "stream",
          "name": "stdout",
          "text": [
            "Mounted at /content/drive\n"
          ]
        }
      ]
    },
    {
      "cell_type": "code",
      "metadata": {
        "id": "qesvEYOr41F-"
      },
      "source": [
        "import time\n",
        "\n",
        "with open('/content/drive/MyDrive/AdventOfCode2021/aoc10.txt', 'r') as file:\n",
        "    data = [x.strip('\\n') for x in file]"
      ],
      "execution_count": 2,
      "outputs": []
    },
    {
      "cell_type": "code",
      "source": [
        "def syntax_scoring():\n",
        "    sum = 0\n",
        "    for line in data:\n",
        "        temp = []\n",
        "        for item in line:\n",
        "            if item in [')', ']', '}', '>']:\n",
        "                if item == ')':\n",
        "                    if temp[len(temp) - 1] == '(':\n",
        "                        temp.pop()\n",
        "                    else:\n",
        "                        sum += 3\n",
        "                        break\n",
        "                elif item == ']':\n",
        "                    if temp[len(temp) - 1] == '[':\n",
        "                        temp.pop()\n",
        "                    else:\n",
        "                        sum += 57\n",
        "                        break\n",
        "                elif item == '}':\n",
        "                    if temp[len(temp) - 1] == '{':\n",
        "                        temp.pop()\n",
        "                    else:\n",
        "                        sum += 1197\n",
        "                        break\n",
        "                elif item == '>':\n",
        "                    if temp[len(temp) - 1] == '<':\n",
        "                        temp.pop()\n",
        "                    else:\n",
        "                        sum += 25137\n",
        "                        break\n",
        "            else:\n",
        "                temp.append(item)\n",
        "    return sum"
      ],
      "metadata": {
        "id": "R30zXvo-5UDT"
      },
      "execution_count": 7,
      "outputs": []
    },
    {
      "cell_type": "code",
      "metadata": {
        "id": "akelhQXRvRQb",
        "colab": {
          "base_uri": "https://localhost:8080/"
        },
        "outputId": "8050b57a-7038-490d-b695-b28fe3d375ce"
      },
      "source": [
        "start_time = time.time()\n",
        "print(syntax_scoring()) \n",
        "print(\"--- %s seconds ---\" % (time.time() - start_time))"
      ],
      "execution_count": 8,
      "outputs": [
        {
          "output_type": "stream",
          "name": "stdout",
          "text": [
            "364389\n",
            "--- 0.004403352737426758 seconds ---\n"
          ]
        }
      ]
    },
    {
      "cell_type": "code",
      "metadata": {
        "id": "96FbY910vyQm"
      },
      "source": [
        "def syntax_scoring2():\n",
        "    sums = []\n",
        "    for line in data:\n",
        "        temp = []\n",
        "        remove = False\n",
        "        for item in line:\n",
        "            if item in [')', ']', '}', '>']:\n",
        "                if item == ')':\n",
        "                    if temp[len(temp) - 1] == '(':\n",
        "                        temp.pop()\n",
        "                    else:\n",
        "                        remove = True\n",
        "                        break\n",
        "                elif item == ']':\n",
        "                    if temp[len(temp) - 1] == '[':\n",
        "                        temp.pop()\n",
        "                    else:\n",
        "                        remove = True\n",
        "                        break\n",
        "                elif item == '}':\n",
        "                    if temp[len(temp) - 1] == '{':\n",
        "                        temp.pop()\n",
        "                    else:\n",
        "                        remove = True\n",
        "                        break\n",
        "                elif item == '>':\n",
        "                    if temp[len(temp) - 1] == '<':\n",
        "                        temp.pop()\n",
        "                    else:\n",
        "                        remove = True\n",
        "                        break\n",
        "            else:\n",
        "                temp.append(item)\n",
        "        if remove == False:\n",
        "            sum = 0\n",
        "            for el in reversed(temp):\n",
        "                if el == '(':\n",
        "                    sum = sum * 5 + 1\n",
        "                if el == '[':\n",
        "                    sum = sum * 5 + 2\n",
        "                if el == '{':\n",
        "                    sum = sum * 5 + 3\n",
        "                if el == '<':\n",
        "                    sum = sum * 5 + 4\n",
        "            sums.append(sum)\n",
        "    sums.reverse()\n",
        "    sums.sort()\n",
        "    return sums[(len(sums) - 1)//2]"
      ],
      "execution_count": 5,
      "outputs": []
    },
    {
      "cell_type": "code",
      "metadata": {
        "colab": {
          "base_uri": "https://localhost:8080/"
        },
        "id": "4zooMN1MtrBx",
        "outputId": "56edb104-5607-4a6f-a768-b705d01ea3fb"
      },
      "source": [
        "start_time = time.time()\n",
        "print(syntax_scoring2())\n",
        "print(\"--- %s seconds ---\" % (time.time() - start_time))"
      ],
      "execution_count": 9,
      "outputs": [
        {
          "output_type": "stream",
          "name": "stdout",
          "text": [
            "2870201088\n",
            "--- 0.005673646926879883 seconds ---\n"
          ]
        }
      ]
    }
  ]
}