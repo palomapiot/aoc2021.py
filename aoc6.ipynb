{
  "nbformat": 4,
  "nbformat_minor": 0,
  "metadata": {
    "colab": {
      "name": "AdventOfCode21-6.ipynb",
      "provenance": [],
      "collapsed_sections": [],
      "mount_file_id": "11PzZ2mWO-GmsIB1WKfpicwi0kMwZWUOY",
      "authorship_tag": "ABX9TyP9ph6ECpwLjWALEUsWLVVZ"
    },
    "kernelspec": {
      "name": "python3",
      "display_name": "Python 3"
    },
    "language_info": {
      "name": "python"
    }
  },
  "cells": [
    {
      "cell_type": "code",
      "metadata": {
        "colab": {
          "base_uri": "https://localhost:8080/"
        },
        "id": "YIcBiUG35J57",
        "outputId": "662f3050-4a9d-4706-c480-e641efe07f73"
      },
      "source": [
        "from google.colab import drive\n",
        "drive.mount('/content/drive')"
      ],
      "execution_count": 1,
      "outputs": [
        {
          "output_type": "stream",
          "name": "stdout",
          "text": [
            "Mounted at /content/drive\n"
          ]
        }
      ]
    },
    {
      "cell_type": "code",
      "metadata": {
        "id": "qesvEYOr41F-"
      },
      "source": [
        "import time\n",
        "\n",
        "with open('/content/drive/MyDrive/AdventOfCode2021/aoc6.txt', 'r') as file:\n",
        "    line = [x for x in file]\n",
        "    data = [int(s) for s in line[0].split(',')]"
      ],
      "execution_count": 2,
      "outputs": []
    },
    {
      "cell_type": "code",
      "metadata": {
        "id": "r3k0VLAp45qD"
      },
      "source": [
        "def init():\n",
        "    fishes_init = [0] * 9\n",
        "    for idx, item in enumerate(data):\n",
        "        fishes_init[item] += 1\n",
        "    return fishes_init\n",
        "\n",
        "def lanternfish(days):\n",
        "    fishes = init()\n",
        "    for day in range(0, days):\n",
        "        today = fishes[0]\n",
        "        fishes.pop(0)\n",
        "        fishes.append(today)\n",
        "        fishes[6] = fishes[6] + today\n",
        "    return sum(fishes)"
      ],
      "execution_count": 4,
      "outputs": []
    },
    {
      "cell_type": "code",
      "metadata": {
        "id": "akelhQXRvRQb",
        "colab": {
          "base_uri": "https://localhost:8080/"
        },
        "outputId": "77d36112-6117-40bf-e246-54a771b19171"
      },
      "source": [
        "start_time = time.time()\n",
        "print(lanternfish(80))\n",
        "print(\"--- %s seconds ---\" % (time.time() - start_time))"
      ],
      "execution_count": 5,
      "outputs": [
        {
          "output_type": "stream",
          "name": "stdout",
          "text": [
            "349549\n",
            "--- 0.0017063617706298828 seconds ---\n"
          ]
        }
      ]
    },
    {
      "cell_type": "code",
      "metadata": {
        "colab": {
          "base_uri": "https://localhost:8080/"
        },
        "id": "4zooMN1MtrBx",
        "outputId": "1ebf1e53-af5e-495f-95c3-626f2c8c218e"
      },
      "source": [
        "start_time = time.time()\n",
        "print(lanternfish(256))\n",
        "print(\"--- %s seconds ---\" % (time.time() - start_time))"
      ],
      "execution_count": 6,
      "outputs": [
        {
          "output_type": "stream",
          "name": "stdout",
          "text": [
            "1589590444365\n",
            "--- 0.0002377033233642578 seconds ---\n"
          ]
        }
      ]
    }
  ]
}