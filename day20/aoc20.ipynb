{
  "nbformat": 4,
  "nbformat_minor": 0,
  "metadata": {
    "colab": {
      "name": "AdventOfCode21-20.ipynb",
      "provenance": [],
      "collapsed_sections": [],
      "mount_file_id": "11PzZ2mWO-GmsIB1WKfpicwi0kMwZWUOY",
      "authorship_tag": "ABX9TyP9P9Hbc1ye3MttPxM+aZwO"
    },
    "kernelspec": {
      "name": "python3",
      "display_name": "Python 3"
    },
    "language_info": {
      "name": "python"
    }
  },
  "cells": [
    {
      "cell_type": "code",
      "metadata": {
        "colab": {
          "base_uri": "https://localhost:8080/"
        },
        "id": "YIcBiUG35J57",
        "outputId": "f3e7c5f4-c241-439f-9c9a-a6b764b44acb"
      },
      "source": [
        "from google.colab import drive\n",
        "drive.mount('/content/drive')"
      ],
      "execution_count": 3,
      "outputs": [
        {
          "output_type": "stream",
          "name": "stdout",
          "text": [
            "Mounted at /content/drive\n"
          ]
        }
      ]
    },
    {
      "cell_type": "code",
      "source": [
        "import time\n",
        "\n",
        "def image_enhancement_algorithm():\n",
        "    with open('/content/drive/MyDrive/AdventOfCode2021/aoc20.txt', 'r') as file:\n",
        "        input = file.read()\n",
        "    data = input.strip('\\n').split('\\n\\n')\n",
        "    return list(data[0])\n",
        "\n",
        "def read_input_image():\n",
        "    with open('/content/drive/MyDrive/AdventOfCode2021/aoc20.txt', 'r') as file:\n",
        "        input = file.read()\n",
        "    data = input.strip('\\n').split('\\n\\n')\n",
        "    image = [[i.split() for i in b.split('\\n')] for b in data[1:]]\n",
        "    return [list(l[0]) for l in image[0]]"
      ],
      "metadata": {
        "id": "ETi6-qBm5kOG"
      },
      "execution_count": 11,
      "outputs": []
    },
    {
      "cell_type": "code",
      "source": [
        "def sum_lit(output_image):\n",
        "    return sum([1 for l in output_image for e in l if e == '#'])"
      ],
      "metadata": {
        "id": "tjIj-iMmhufQ"
      },
      "execution_count": 37,
      "outputs": []
    },
    {
      "cell_type": "code",
      "source": [
        "def enhance(algorithm, input_image, runs):\n",
        "    output_image = list(input_image)\n",
        "    for run in range(runs):\n",
        "        output_image = single_enhance(algorithm, output_image, run + 1)\n",
        "    return output_image"
      ],
      "metadata": {
        "id": "r3pYlJuuqsvF"
      },
      "execution_count": 56,
      "outputs": []
    },
    {
      "cell_type": "code",
      "source": [
        "def single_enhance(algorithm, input_image, run):\n",
        "    directions = [[-1, -1], [-1, 0], [-1, 1], [0, -1], [0, 0], [0, 1], [1, -1], [1, 0], [1, 1]]\n",
        "    output_image = [[]] * (len(input_image) + 2)\n",
        "    for i in range(-1, len(input_image) + 1):\n",
        "        output_image[i+1] = [''] * (len(input_image[0]) + 2)\n",
        "        for j in range(-1, len(input_image) + 1):\n",
        "            pos = 0\n",
        "            for move in directions:\n",
        "                pos <<= 1\n",
        "                i_pos, j_pos = i + move[0], j + move[1]\n",
        "                if 0 <= i_pos < len(input_image) and 0 <= j_pos < len(input_image[0]):\n",
        "                    if input_image[i_pos][j_pos] == '#':\n",
        "                        pos |= 1\n",
        "                # when run is even, all infinite positions are # if our first alg pos is #\n",
        "                elif algorithm[0] == '#' and run % 2 == 0:\n",
        "                    pos |= 1\n",
        "            output_image[i+1][j+1] = algorithm[pos]\n",
        "    return output_image"
      ],
      "metadata": {
        "id": "A6cn2Klcl6NW"
      },
      "execution_count": 54,
      "outputs": []
    },
    {
      "cell_type": "code",
      "metadata": {
        "id": "r3k0VLAp45qD"
      },
      "source": [
        "def trench_map(runs):\n",
        "    algorithm = image_enhancement_algorithm()\n",
        "    input_image = read_input_image()\n",
        "    return sum_lit(enhance(algorithm, input_image, runs))"
      ],
      "execution_count": 45,
      "outputs": []
    },
    {
      "cell_type": "code",
      "metadata": {
        "colab": {
          "base_uri": "https://localhost:8080/"
        },
        "id": "zkZbdvQYvh7f",
        "outputId": "55698cb1-2c5e-4d6e-87d5-a9a7f6cf7256"
      },
      "source": [
        "start_time = time.time()\n",
        "print(trench_map(2))\n",
        "print(\"--- %s seconds ---\" % (time.time() - start_time))"
      ],
      "execution_count": 57,
      "outputs": [
        {
          "output_type": "stream",
          "name": "stdout",
          "text": [
            "5361\n",
            "--- 0.1310880184173584 seconds ---\n"
          ]
        }
      ]
    },
    {
      "cell_type": "code",
      "metadata": {
        "colab": {
          "base_uri": "https://localhost:8080/"
        },
        "id": "0KJMWJJMzSJA",
        "outputId": "21514cac-9964-462b-a8e8-6f6304dd0280"
      },
      "source": [
        "start_time = time.time()\n",
        "print(trench_map(50))\n",
        "print(\"--- %s seconds ---\" % (time.time() - start_time))"
      ],
      "execution_count": 58,
      "outputs": [
        {
          "output_type": "stream",
          "name": "stdout",
          "text": [
            "16826\n",
            "--- 6.774863004684448 seconds ---\n"
          ]
        }
      ]
    }
  ]
}
