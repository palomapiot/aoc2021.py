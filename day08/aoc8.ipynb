{
  "nbformat": 4,
  "nbformat_minor": 0,
  "metadata": {
    "colab": {
      "name": "AdventOfCode21-8.ipynb",
      "provenance": [],
      "collapsed_sections": [],
      "mount_file_id": "11PzZ2mWO-GmsIB1WKfpicwi0kMwZWUOY",
      "authorship_tag": "ABX9TyM2aX7JSJfoJOXHNfspqHa7"
    },
    "kernelspec": {
      "name": "python3",
      "display_name": "Python 3"
    },
    "language_info": {
      "name": "python"
    }
  },
  "cells": [
    {
      "cell_type": "code",
      "metadata": {
        "id": "YIcBiUG35J57",
        "colab": {
          "base_uri": "https://localhost:8080/"
        },
        "outputId": "9c6b6188-05af-467e-a972-68567ea75487"
      },
      "source": [
        "from google.colab import drive\n",
        "drive.mount('/content/drive')"
      ],
      "execution_count": 1,
      "outputs": [
        {
          "output_type": "stream",
          "name": "stdout",
          "text": [
            "Mounted at /content/drive\n"
          ]
        }
      ]
    },
    {
      "cell_type": "code",
      "metadata": {
        "id": "qesvEYOr41F-"
      },
      "source": [
        "import time\n",
        "\n",
        "with open('/content/drive/MyDrive/AdventOfCode2021/aoc8.txt', 'r') as file:\n",
        "    data = [x.strip('\\n') for x in file]"
      ],
      "execution_count": 2,
      "outputs": []
    },
    {
      "cell_type": "code",
      "metadata": {
        "id": "r3k0VLAp45qD"
      },
      "source": [
        "def seven_segment_search():\n",
        "    output_temp = [x.split(' | ')[1] for x in data]\n",
        "    output = [x.split(' ') for x in output_temp]\n",
        "    count = 0\n",
        "    for line in output:\n",
        "        for x in line:\n",
        "            if len(x) == 2 or len(x) == 4 or len(x) == 3 or len(x) == 7:\n",
        "                count += 1\n",
        "    return count"
      ],
      "execution_count": 3,
      "outputs": []
    },
    {
      "cell_type": "code",
      "metadata": {
        "id": "akelhQXRvRQb",
        "colab": {
          "base_uri": "https://localhost:8080/"
        },
        "outputId": "faedecee-ac49-4cc8-b2bd-8b90a69ae738"
      },
      "source": [
        "start_time = time.time()\n",
        "print(seven_segment_search())\n",
        "print(\"--- %s seconds ---\" % (time.time() - start_time))"
      ],
      "execution_count": 4,
      "outputs": [
        {
          "output_type": "stream",
          "name": "stdout",
          "text": [
            "255\n",
            "--- 0.0025403499603271484 seconds ---\n"
          ]
        }
      ]
    },
    {
      "cell_type": "code",
      "metadata": {
        "id": "96FbY910vyQm"
      },
      "source": [
        "import re\n",
        "\n",
        "def seven_segment_search2():\n",
        "    input_temp = [x.split(' | ')[0] for x in data]\n",
        "    input = [x.split(' ') for x in input_temp]\n",
        "    output_temp = [x.split(' | ')[1] for x in data]\n",
        "    output = [x.split(' ') for x in output_temp]\n",
        "\n",
        "    switcher = {\n",
        "        6: [0, 6, 9],\n",
        "        2: 1, \n",
        "        5: [2, 3, 5],\n",
        "        4: 4, \n",
        "        3: 7, \n",
        "        7: 8, \n",
        "    }\n",
        "    numbers = [0] * len(data)\n",
        "    for idx, line in enumerate(input):\n",
        "        input_numbers = {}\n",
        "        for signal in line:\n",
        "            number = switcher.get(len(signal))\n",
        "            if type(number) is not list:\n",
        "                input_numbers[number] = ''.join(sorted(signal))\n",
        "        \n",
        "        for signal in line:\n",
        "            number = switcher.get(len(signal))\n",
        "            if type(number) is list:\n",
        "                if len(signal) == 5:\n",
        "                    if all(elem in sorted(signal) for elem in sorted(input_numbers[1])):\n",
        "                        input_numbers[3] = ''.join(sorted(signal))\n",
        "                    else:\n",
        "                        coincidences = 0\n",
        "                        for char in input_numbers[4]:\n",
        "                            if char in signal:\n",
        "                                coincidences += 1\n",
        "                        if coincidences == 3:\n",
        "                            input_numbers[5] = ''.join(sorted(signal))\n",
        "                        elif coincidences == 2:\n",
        "                            input_numbers[2] = ''.join(sorted(signal))               \n",
        "                elif len(signal) == 6:\n",
        "                    if all(elem in sorted(signal) for elem in sorted(input_numbers[4])):\n",
        "                        input_numbers[9] = ''.join(sorted(signal))\n",
        "                    elif all(elem in sorted(signal) for elem in sorted(input_numbers[1])):\n",
        "                        input_numbers[0] = ''.join(sorted(signal))\n",
        "                    else:\n",
        "                        input_numbers[6] = ''.join(sorted(signal))\n",
        "        \n",
        "        key_list = list(input_numbers.keys())\n",
        "        val_list = list(input_numbers.values())\n",
        "        number = ''\n",
        "        for output_signal in output[idx]:\n",
        "            position = val_list.index(''.join(sorted(output_signal)))\n",
        "            number += str(key_list[position])\n",
        "        numbers[idx] = int(number)\n",
        "    return sum(numbers)"
      ],
      "execution_count": 5,
      "outputs": []
    },
    {
      "cell_type": "code",
      "metadata": {
        "colab": {
          "base_uri": "https://localhost:8080/"
        },
        "id": "4zooMN1MtrBx",
        "outputId": "98eefa86-49d4-4659-afca-04b1c999c67f"
      },
      "source": [
        "start_time = time.time()\n",
        "print(seven_segment_search2())\n",
        "print(\"--- %s seconds ---\" % (time.time() - start_time))"
      ],
      "execution_count": 6,
      "outputs": [
        {
          "output_type": "stream",
          "name": "stdout",
          "text": [
            "982158\n",
            "--- 0.014469385147094727 seconds ---\n"
          ]
        }
      ]
    }
  ]
}
