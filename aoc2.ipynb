{
  "nbformat": 4,
  "nbformat_minor": 0,
  "metadata": {
    "colab": {
      "name": "AdventOfCode21-2.ipynb",
      "provenance": [],
      "collapsed_sections": [],
      "mount_file_id": "11PzZ2mWO-GmsIB1WKfpicwi0kMwZWUOY",
      "authorship_tag": "ABX9TyPsYqWMOamp6av9q6DWukJd"
    },
    "kernelspec": {
      "name": "python3",
      "display_name": "Python 3"
    },
    "language_info": {
      "name": "python"
    }
  },
  "cells": [
    {
      "cell_type": "code",
      "metadata": {
        "colab": {
          "base_uri": "https://localhost:8080/"
        },
        "id": "YIcBiUG35J57",
        "outputId": "1785fa94-ad74-4cf9-d420-b7cc96be620d"
      },
      "source": [
        "from google.colab import drive\n",
        "drive.mount('/content/drive')"
      ],
      "execution_count": 1,
      "outputs": [
        {
          "output_type": "stream",
          "name": "stdout",
          "text": [
            "Mounted at /content/drive\n"
          ]
        }
      ]
    },
    {
      "cell_type": "code",
      "metadata": {
        "id": "qesvEYOr41F-"
      },
      "source": [
        "import time\n",
        "\n",
        "with open('/content/drive/MyDrive/AdventOfCode2021/aoc2.txt', 'r') as file:\n",
        "    data = [x.strip('\\n') for x in file]"
      ],
      "execution_count": 2,
      "outputs": []
    },
    {
      "cell_type": "code",
      "metadata": {
        "id": "rONTWYjk0qL9"
      },
      "source": [
        "def dive():\n",
        "    horizontal = sum([int(s.split(' ')[1]) for s in data if \"forward\" in s])\n",
        "    depth = sum([int(s.split(' ')[1]) for s in data if \"down\" in s]) - sum([int(s.split(' ')[1]) for s in data if \"up\" in s])\n",
        "    return horizontal * depth"
      ],
      "execution_count": 8,
      "outputs": []
    },
    {
      "cell_type": "code",
      "metadata": {
        "colab": {
          "base_uri": "https://localhost:8080/"
        },
        "id": "akelhQXRvRQb",
        "outputId": "ffbf64b6-701d-439f-d844-3e7897530d99"
      },
      "source": [
        "start_time = time.time()\n",
        "print(dive())\n",
        "print(\"--- %s seconds ---\" % (time.time() - start_time))"
      ],
      "execution_count": 9,
      "outputs": [
        {
          "output_type": "stream",
          "name": "stdout",
          "text": [
            "1524750\n",
            "--- 0.002513408660888672 seconds ---\n"
          ]
        }
      ]
    },
    {
      "cell_type": "code",
      "metadata": {
        "id": "Gz8GNRY69_2H"
      },
      "source": [
        "def dive2():\n",
        "    horizontal = 0\n",
        "    depth = 0\n",
        "    aim = 0\n",
        "    for item in data:\n",
        "        value = int(item.split(' ')[1])\n",
        "        if 'forward' in item:\n",
        "            horizontal += value\n",
        "            depth += aim * value\n",
        "        elif 'down' in item:\n",
        "            aim += value\n",
        "        else:\n",
        "            aim -= value\n",
        "    return horizontal * depth"
      ],
      "execution_count": 10,
      "outputs": []
    },
    {
      "cell_type": "code",
      "metadata": {
        "colab": {
          "base_uri": "https://localhost:8080/"
        },
        "id": "zkZbdvQYvh7f",
        "outputId": "410e5d90-95a8-4da8-ba18-85fa375a9dd0"
      },
      "source": [
        "start_time = time.time()\n",
        "print(dive2())\n",
        "print(\"--- %s seconds ---\" % (time.time() - start_time))"
      ],
      "execution_count": 11,
      "outputs": [
        {
          "output_type": "stream",
          "name": "stdout",
          "text": [
            "1592426537\n",
            "--- 0.001558542251586914 seconds ---\n"
          ]
        }
      ]
    }
  ]
}