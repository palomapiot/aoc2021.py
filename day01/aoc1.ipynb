{
  "nbformat": 4,
  "nbformat_minor": 0,
  "metadata": {
    "colab": {
      "name": "AdventOfCode21-1.ipynb",
      "provenance": [],
      "collapsed_sections": [],
      "mount_file_id": "11PzZ2mWO-GmsIB1WKfpicwi0kMwZWUOY",
      "authorship_tag": "ABX9TyMEx16kG1fEfm5DzvMU/xVv"
    },
    "kernelspec": {
      "name": "python3",
      "display_name": "Python 3"
    },
    "language_info": {
      "name": "python"
    }
  },
  "cells": [
    {
      "cell_type": "code",
      "metadata": {
        "colab": {
          "base_uri": "https://localhost:8080/"
        },
        "id": "YIcBiUG35J57",
        "outputId": "3b4e54de-3978-4886-e6a5-2becd0cf6a07"
      },
      "source": [
        "from google.colab import drive\n",
        "drive.mount('/content/drive')"
      ],
      "execution_count": null,
      "outputs": [
        {
          "output_type": "stream",
          "name": "stdout",
          "text": [
            "Drive already mounted at /content/drive; to attempt to forcibly remount, call drive.mount(\"/content/drive\", force_remount=True).\n"
          ]
        }
      ]
    },
    {
      "cell_type": "code",
      "metadata": {
        "id": "qesvEYOr41F-"
      },
      "source": [
        "import time\n",
        "\n",
        "with open('/content/drive/MyDrive/AdventOfCode2021/aoc1.txt', 'r') as file:\n",
        "    data = [int(x.strip('\\n')) for x in file]"
      ],
      "execution_count": null,
      "outputs": []
    },
    {
      "cell_type": "code",
      "metadata": {
        "id": "r3k0VLAp45qD"
      },
      "source": [
        "def sonar_sweep():\n",
        "    increased = 0\n",
        "    for idx in range(1, len(data)):\n",
        "        if  data[idx] > data[idx - 1]:\n",
        "            increased += 1\n",
        "    print(increased)"
      ],
      "execution_count": null,
      "outputs": []
    },
    {
      "cell_type": "code",
      "metadata": {
        "colab": {
          "base_uri": "https://localhost:8080/"
        },
        "id": "akelhQXRvRQb",
        "outputId": "634e46c4-effb-45b0-f03c-a10b0baf89d6"
      },
      "source": [
        "start_time = time.time()\n",
        "sonar_sweep()\n",
        "print(\"--- %s seconds ---\" % (time.time() - start_time))"
      ],
      "execution_count": null,
      "outputs": [
        {
          "output_type": "stream",
          "name": "stdout",
          "text": [
            "1448\n",
            "--- 0.001981019973754883 seconds ---\n"
          ]
        }
      ]
    },
    {
      "cell_type": "code",
      "metadata": {
        "id": "Gz8GNRY69_2H"
      },
      "source": [
        "def sonar_sweep2():\n",
        "    increased = 0\n",
        "    prev_sum = data[0] + data[1] + data[2]\n",
        "    for idx in range(3, len(data)):\n",
        "        new_sum = prev_sum + data[idx] - data[idx - 3]\n",
        "        if new_sum > prev_sum:\n",
        "            increased += 1\n",
        "        prev_sum = new_sum\n",
        "    print(increased)"
      ],
      "execution_count": null,
      "outputs": []
    },
    {
      "cell_type": "code",
      "metadata": {
        "colab": {
          "base_uri": "https://localhost:8080/"
        },
        "id": "zkZbdvQYvh7f",
        "outputId": "c767bb30-0579-44d9-df62-741a2b1d3ae6"
      },
      "source": [
        "start_time = time.time()\n",
        "sonar_sweep2()\n",
        "print(\"--- %s seconds ---\" % (time.time() - start_time))"
      ],
      "execution_count": null,
      "outputs": [
        {
          "output_type": "stream",
          "name": "stdout",
          "text": [
            "1471\n",
            "--- 0.0020453929901123047 seconds ---\n"
          ]
        }
      ]
    }
  ]
}
