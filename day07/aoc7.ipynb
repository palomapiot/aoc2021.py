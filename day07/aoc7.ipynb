{
  "nbformat": 4,
  "nbformat_minor": 0,
  "metadata": {
    "colab": {
      "name": "AdventOfCode21-7.ipynb",
      "provenance": [],
      "collapsed_sections": [],
      "mount_file_id": "11PzZ2mWO-GmsIB1WKfpicwi0kMwZWUOY",
      "authorship_tag": "ABX9TyMgqLDYOSU0TGS+U46y3q4u"
    },
    "kernelspec": {
      "name": "python3",
      "display_name": "Python 3"
    },
    "language_info": {
      "name": "python"
    }
  },
  "cells": [
    {
      "cell_type": "code",
      "metadata": {
        "colab": {
          "base_uri": "https://localhost:8080/"
        },
        "id": "YIcBiUG35J57",
        "outputId": "2f7123a9-26fe-4567-9164-b1a656d1b8de"
      },
      "source": [
        "from google.colab import drive\n",
        "drive.mount('/content/drive')"
      ],
      "execution_count": 1,
      "outputs": [
        {
          "output_type": "stream",
          "name": "stdout",
          "text": [
            "Mounted at /content/drive\n"
          ]
        }
      ]
    },
    {
      "cell_type": "code",
      "metadata": {
        "id": "qesvEYOr41F-"
      },
      "source": [
        "import time\n",
        "from statistics import median, mean\n",
        "\n",
        "with open('/content/drive/MyDrive/AdventOfCode2021/aoc7.txt', 'r') as file:\n",
        "    line = [x for x in file]\n",
        "    data = [int(s) for s in line[0].split(',')]"
      ],
      "execution_count": 2,
      "outputs": []
    },
    {
      "cell_type": "code",
      "metadata": {
        "id": "r3k0VLAp45qD"
      },
      "source": [
        "def whales():\n",
        "    return sum([abs(int(median(data)) - pos) for pos in data])"
      ],
      "execution_count": 3,
      "outputs": []
    },
    {
      "cell_type": "code",
      "metadata": {
        "id": "akelhQXRvRQb",
        "colab": {
          "base_uri": "https://localhost:8080/"
        },
        "outputId": "de87261d-b2c4-430e-e7d6-730ea42ecf12"
      },
      "source": [
        "start_time = time.time()\n",
        "print(whales())\n",
        "print(\"--- %s seconds ---\" % (time.time() - start_time))"
      ],
      "execution_count": 4,
      "outputs": [
        {
          "output_type": "stream",
          "name": "stdout",
          "text": [
            "336131\n",
            "--- 0.11215710639953613 seconds ---\n"
          ]
        }
      ]
    },
    {
      "cell_type": "code",
      "metadata": {
        "id": "96FbY910vyQm"
      },
      "source": [
        "def whales2():\n",
        "    cheapests_pos = [int(mean(data)), int(mean(data)) + 1]\n",
        "    fuel = [0, 0]\n",
        "    for i, cheapest_pos in enumerate(cheapests_pos):\n",
        "        fuel[i] = sum([abs(cheapest_pos - pos) * (abs(int(cheapest_pos - pos)) + 1) // 2 for pos in data])\n",
        "    return min(fuel)"
      ],
      "execution_count": 33,
      "outputs": []
    },
    {
      "cell_type": "code",
      "metadata": {
        "colab": {
          "base_uri": "https://localhost:8080/"
        },
        "id": "4zooMN1MtrBx",
        "outputId": "cbdf87e2-359b-4ac8-bbc1-c3e69a901b58"
      },
      "source": [
        "start_time = time.time()\n",
        "print(whales2())\n",
        "print(\"--- %s seconds ---\" % (time.time() - start_time))"
      ],
      "execution_count": 34,
      "outputs": [
        {
          "output_type": "stream",
          "name": "stdout",
          "text": [
            "92676646\n",
            "--- 0.004582643508911133 seconds ---\n"
          ]
        }
      ]
    }
  ]
}
