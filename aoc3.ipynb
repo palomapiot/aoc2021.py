{
  "nbformat": 4,
  "nbformat_minor": 0,
  "metadata": {
    "colab": {
      "name": "AdventOfCode21-3.ipynb",
      "provenance": [],
      "collapsed_sections": [],
      "mount_file_id": "11PzZ2mWO-GmsIB1WKfpicwi0kMwZWUOY",
      "authorship_tag": "ABX9TyO+6rdYHh130vOAA2uhQqg5"
    },
    "kernelspec": {
      "name": "python3",
      "display_name": "Python 3"
    },
    "language_info": {
      "name": "python"
    }
  },
  "cells": [
    {
      "cell_type": "code",
      "metadata": {
        "colab": {
          "base_uri": "https://localhost:8080/"
        },
        "id": "YIcBiUG35J57",
        "outputId": "1a05c86c-e78d-46f8-e1d5-af60e73b5ab2"
      },
      "source": [
        "from google.colab import drive\n",
        "drive.mount('/content/drive')"
      ],
      "execution_count": 1,
      "outputs": [
        {
          "output_type": "stream",
          "name": "stdout",
          "text": [
            "Mounted at /content/drive\n"
          ]
        }
      ]
    },
    {
      "cell_type": "code",
      "metadata": {
        "id": "qesvEYOr41F-"
      },
      "source": [
        "import time\n",
        "\n",
        "with open('/content/drive/MyDrive/AdventOfCode2021/aoc3.txt', 'r') as file:\n",
        "    data = [x.strip('\\n') for x in file]"
      ],
      "execution_count": 20,
      "outputs": []
    },
    {
      "cell_type": "code",
      "source": [
        "input = [[]] * len(data)\n",
        "for index, line in enumerate(data):\n",
        "    input[index] = [int(c) for c in line]"
      ],
      "metadata": {
        "id": "CJa-CfBt2e_x"
      },
      "execution_count": 21,
      "outputs": []
    },
    {
      "cell_type": "code",
      "metadata": {
        "id": "r3k0VLAp45qD"
      },
      "source": [
        "def binary_diagnostic():\n",
        "    gamma_rate = ''\n",
        "    epsilon_rate = ''\n",
        "    for i in range(len(input[0])):\n",
        "        positions = list(map(lambda e: e[i], input))\n",
        "        ones = len(list(filter(lambda e: e == 1, positions)))\n",
        "        if ones > (len(positions) -  ones):\n",
        "            gamma_rate += '1'\n",
        "            epsilon_rate += '0'\n",
        "        else:\n",
        "            gamma_rate += '0'\n",
        "            epsilon_rate += '1'\n",
        "    return int(gamma_rate, 2) * int(epsilon_rate, 2)"
      ],
      "execution_count": 66,
      "outputs": []
    },
    {
      "cell_type": "code",
      "source": [
        "start_time = time.time()\n",
        "print(binary_diagnostic())\n",
        "print(\"--- %s seconds ---\" % (time.time() - start_time))"
      ],
      "metadata": {
        "colab": {
          "base_uri": "https://localhost:8080/"
        },
        "id": "eeSKDKzC4H1G",
        "outputId": "6629c1c9-f211-41e4-c4b3-da8464564a68"
      },
      "execution_count": 67,
      "outputs": [
        {
          "output_type": "stream",
          "name": "stdout",
          "text": [
            "1997414\n",
            "--- 0.00841069221496582 seconds ---\n"
          ]
        }
      ]
    },
    {
      "cell_type": "code",
      "source": [
        "def calculate(data, number_len, f):\n",
        "    rating = ''\n",
        "    for i in range(number_len):\n",
        "        positions = list(map(lambda e: e[i], data))\n",
        "        ones = len(list(filter(lambda e: e == 1, positions)))\n",
        "        if f(ones, len(positions) - ones):\n",
        "            data = list(filter(lambda e: e[i] == 1, data))\n",
        "            #[element for element in elements if element != [0,0]]\n",
        "        else:\n",
        "            data = list(filter(lambda e: e[i] == 0, data))\n",
        "        if len(data) == 1:\n",
        "            rating = data[0]\n",
        "    rating = [str(e) for e in rating]\n",
        "    return ''.join(rating)"
      ],
      "metadata": {
        "id": "FcoNB8MO8apw"
      },
      "execution_count": 63,
      "outputs": []
    },
    {
      "cell_type": "code",
      "metadata": {
        "id": "rONTWYjk0qL9"
      },
      "source": [
        "def binary_diagnostic2():\n",
        "    return int(calculate(input, len(input[0]), lambda a,b : a >= b), 2) * int(calculate(input, len(input[0]), lambda a,b : a < b), 2)"
      ],
      "execution_count": 64,
      "outputs": []
    },
    {
      "cell_type": "code",
      "metadata": {
        "colab": {
          "base_uri": "https://localhost:8080/"
        },
        "id": "akelhQXRvRQb",
        "outputId": "a730b7b7-d913-483c-96c5-fed6702e7a98"
      },
      "source": [
        "start_time = time.time()\n",
        "print(binary_diagnostic2())\n",
        "print(\"--- %s seconds ---\" % (time.time() - start_time))"
      ],
      "execution_count": 65,
      "outputs": [
        {
          "output_type": "stream",
          "name": "stdout",
          "text": [
            "1032597\n",
            "--- 0.005346775054931641 seconds ---\n"
          ]
        }
      ]
    }
  ]
}