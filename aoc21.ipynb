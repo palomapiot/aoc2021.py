{
  "nbformat": 4,
  "nbformat_minor": 0,
  "metadata": {
    "colab": {
      "name": "AdventOfCode21-21.ipynb",
      "provenance": [],
      "collapsed_sections": [],
      "mount_file_id": "11PzZ2mWO-GmsIB1WKfpicwi0kMwZWUOY",
      "authorship_tag": "ABX9TyOskT4b11h4FEIMKBVjbDgm"
    },
    "kernelspec": {
      "name": "python3",
      "display_name": "Python 3"
    },
    "language_info": {
      "name": "python"
    }
  },
  "cells": [
    {
      "cell_type": "code",
      "source": [
        "import time\n",
        "def turn(init_pos, score, n1, n2, n3):\n",
        "    pos = (init_pos + n1 + n2 + n3) % 10\n",
        "    if pos == 0:\n",
        "        score += 10\n",
        "    else:\n",
        "        score += pos\n",
        "    return pos, score"
      ],
      "metadata": {
        "id": "-O-Yr5_LDcXW"
      },
      "execution_count": 3,
      "outputs": []
    },
    {
      "cell_type": "code",
      "metadata": {
        "id": "r3k0VLAp45qD"
      },
      "source": [
        "def dirac_dice():\n",
        "    player1, score1 = 10, 0\n",
        "    player2, score2 = 6, 0\n",
        "    rolls, dice = 0, 1\n",
        "    while True:\n",
        "        if (dice % 2) == 0:\n",
        "            player2, score2 = turn(player2, score2, dice, dice+1, dice+2)\n",
        "            rolls += 3\n",
        "            if score2 >= 1000:\n",
        "                return score1 * rolls\n",
        "        else: \n",
        "            player1, score1 = turn(player1, score1, dice, dice+1, dice+2)\n",
        "            rolls += 3\n",
        "            if score1 >= 1000:\n",
        "                return score2 * rolls\n",
        "        dice = (dice + 3) % 100"
      ],
      "execution_count": 30,
      "outputs": []
    },
    {
      "cell_type": "code",
      "metadata": {
        "colab": {
          "base_uri": "https://localhost:8080/"
        },
        "id": "zkZbdvQYvh7f",
        "outputId": "ee61838c-bcda-4dd5-8e73-e3809a32ba72"
      },
      "source": [
        "start_time = time.time()\n",
        "print(dirac_dice())\n",
        "print(\"--- %s seconds ---\" % (time.time() - start_time))"
      ],
      "execution_count": 31,
      "outputs": [
        {
          "output_type": "stream",
          "name": "stdout",
          "text": [
            "900099\n",
            "--- 0.0008106231689453125 seconds ---\n"
          ]
        }
      ]
    },
    {
      "cell_type": "code",
      "source": [
        "def turn2(init_pos, score, sum_dice):\n",
        "    pos = (init_pos + sum_dice) % 10\n",
        "    if pos == 0:\n",
        "        score += 10\n",
        "    else:\n",
        "        score += pos\n",
        "    return pos, score"
      ],
      "metadata": {
        "id": "Tuj2gOITLthE"
      },
      "execution_count": 45,
      "outputs": []
    },
    {
      "cell_type": "code",
      "source": [
        "def dirac_dice2():\n",
        "    wins = [0, 0]\n",
        "    universes = { 3: 1, 4: 3, 5: 6, 6: 7, 7: 6, 8: 3, 9: 1}\n",
        "    \n",
        "    def dirac_dice_rec(turn, players, scores, multiplier):\n",
        "        for sum_dice, num_universes in universes.items():\n",
        "            players_universe = list(players)\n",
        "            scores_universe = list(scores)\n",
        "            players_universe[turn], scores_universe[turn] = turn2(players[turn], scores[turn], sum_dice)\n",
        "            if scores_universe[turn] >= 21:\n",
        "                wins[turn] += num_universes * multiplier\n",
        "            else:\n",
        "                dirac_dice_rec((turn + 1) % 2, list(players_universe), list(scores_universe), multiplier*num_universes)\n",
        "    dirac_dice_rec(0, [10, 6], [0, 0], 1)\n",
        "    return max(wins)"
      ],
      "metadata": {
        "id": "5UdmCY7FI709"
      },
      "execution_count": 46,
      "outputs": []
    },
    {
      "cell_type": "code",
      "metadata": {
        "colab": {
          "base_uri": "https://localhost:8080/"
        },
        "id": "0KJMWJJMzSJA",
        "outputId": "13a8879e-b506-4892-e4d0-29f5366bc9b6"
      },
      "source": [
        "start_time = time.time()\n",
        "print(dirac_dice2())\n",
        "print(\"--- %s seconds ---\" % (time.time() - start_time))"
      ],
      "execution_count": 47,
      "outputs": [
        {
          "output_type": "stream",
          "name": "stdout",
          "text": [
            "306719685234774\n",
            "--- 85.03011202812195 seconds ---\n"
          ]
        }
      ]
    }
  ]
}