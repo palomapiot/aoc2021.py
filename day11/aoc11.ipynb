{
  "nbformat": 4,
  "nbformat_minor": 0,
  "metadata": {
    "colab": {
      "name": "AdventOfCode21-11.ipynb",
      "provenance": [],
      "collapsed_sections": [],
      "mount_file_id": "11PzZ2mWO-GmsIB1WKfpicwi0kMwZWUOY",
      "authorship_tag": "ABX9TyNlXndClKKKwEDyPQTbXIoq"
    },
    "kernelspec": {
      "name": "python3",
      "display_name": "Python 3"
    },
    "language_info": {
      "name": "python"
    }
  },
  "cells": [
    {
      "cell_type": "code",
      "metadata": {
        "id": "YIcBiUG35J57",
        "colab": {
          "base_uri": "https://localhost:8080/"
        },
        "outputId": "c133bc86-aefa-4df7-b0bb-f91d2f8ddc7d"
      },
      "source": [
        "from google.colab import drive\n",
        "drive.mount('/content/drive')"
      ],
      "execution_count": 1,
      "outputs": [
        {
          "output_type": "stream",
          "name": "stdout",
          "text": [
            "Mounted at /content/drive\n"
          ]
        }
      ]
    },
    {
      "cell_type": "code",
      "metadata": {
        "id": "qesvEYOr41F-"
      },
      "source": [
        "import time\n",
        "\n",
        "with open('/content/drive/MyDrive/AdventOfCode2021/aoc11.txt', 'r') as file:\n",
        "    data = [x.strip('\\n') for x in file]"
      ],
      "execution_count": 2,
      "outputs": []
    },
    {
      "cell_type": "code",
      "source": [
        "input = []\n",
        "for l in data:\n",
        "    temp = []\n",
        "    for c in l:\n",
        "        temp.append(int(c))\n",
        "    input.append(temp)"
      ],
      "metadata": {
        "id": "9Iwe_jqq5WQ6"
      },
      "execution_count": 10,
      "outputs": []
    },
    {
      "cell_type": "code",
      "source": [
        "max_pos = 9\n",
        "def calculate_adj(i, j, data):\n",
        "    if i == 0:\n",
        "        if j == 0:\n",
        "            return [(i, j+1), (i+1, j), (i+1, j+1)]\n",
        "        elif j == max_pos:\n",
        "            return [(i, j-1), (i+1, j), (i+1, j-1)]\n",
        "        else:\n",
        "            return [(i, j-1), (i, j+1), (i+1, j), (i+1, j-1), (i+1, j+1)]\n",
        "    \n",
        "    if i == max_pos:\n",
        "        if j == 0:\n",
        "            return [(i, j+1), (i-1, j), (i-1, j+1)]\n",
        "        elif j == max_pos:\n",
        "            return [(i, j-1), (i-1, j), (i-1, j-1)]\n",
        "        else:\n",
        "            return [(i, j-1), (i, j+1), (i-1, j), (i-1, j-1), (i-1, j+1)]\n",
        "    \n",
        "    if j == 0:\n",
        "        return [(i-1, j), (i, j+1), (i+1, j), (i-1, j+1), (i+1, j+1)]\n",
        "    if j == max_pos:\n",
        "        return [(i-1, j), (i, j-1), (i+1, j), (i-1, j-1), (i+1, j-1)]\n",
        "    \n",
        "    return [(i-1, j), (i-1, j+1), (i-1, j-1), (i, j+1), (i, j-1), (i+1, j), (i+1,j-1), (i+1, j+1)]"
      ],
      "metadata": {
        "id": "ZbPnDUA6YnGQ"
      },
      "execution_count": 4,
      "outputs": []
    },
    {
      "cell_type": "code",
      "source": [
        "n_flashes = 0\n",
        "def dumbo_octopus():\n",
        "    global n_flashes\n",
        "    for n in range(100):\n",
        "        for i, line in enumerate(input):\n",
        "            for j, item in enumerate(line):\n",
        "                input[i][j] += 1\n",
        "        for i, line in enumerate(input):\n",
        "            for j, item in enumerate(line):\n",
        "                if item > 9:\n",
        "                    flash(i, j, input)\n",
        "        for i, line in enumerate(input):\n",
        "            for j, item in enumerate(line):\n",
        "                if input[i][j] == -1:\n",
        "                    input[i][j] = 0\n",
        "    return n_flashes"
      ],
      "metadata": {
        "id": "R30zXvo-5UDT"
      },
      "execution_count": 5,
      "outputs": []
    },
    {
      "cell_type": "code",
      "source": [
        "def flash(x, y, input):\n",
        "    global n_flashes\n",
        "    n_flashes += 1\n",
        "    input[x][y] = -1\n",
        "    for adj in calculate_adj(x, y, input):\n",
        "        if input[adj[0]][adj[1]] != -1:\n",
        "            input[adj[0]][adj[1]] += 1\n",
        "        if input[adj[0]][adj[1]] > 9:\n",
        "            flash(adj[0], adj[1], input)"
      ],
      "metadata": {
        "id": "CXPWQ4xD8_sM"
      },
      "execution_count": 6,
      "outputs": []
    },
    {
      "cell_type": "code",
      "metadata": {
        "id": "akelhQXRvRQb",
        "colab": {
          "base_uri": "https://localhost:8080/"
        },
        "outputId": "3805fff9-4a0b-4e38-989b-fa730e5ce4b5"
      },
      "source": [
        "start_time = time.time()\n",
        "print(dumbo_octopus())\n",
        "print(\"--- %s seconds ---\" % (time.time() - start_time))"
      ],
      "execution_count": 7,
      "outputs": [
        {
          "output_type": "stream",
          "name": "stdout",
          "text": [
            "1562\n",
            "--- 0.015459537506103516 seconds ---\n"
          ]
        }
      ]
    },
    {
      "cell_type": "code",
      "metadata": {
        "id": "96FbY910vyQm"
      },
      "source": [
        "def dumbo_octopus2():\n",
        "    steps = 0\n",
        "    while True:\n",
        "        steps += 1\n",
        "        for i, line in enumerate(input):\n",
        "            for j, item in enumerate(line):\n",
        "                input[i][j] += 1\n",
        "        for i, line in enumerate(input):\n",
        "            for j, item in enumerate(line):\n",
        "                if item > 9:\n",
        "                    flash(i, j, input)\n",
        "        for i, line in enumerate(input):\n",
        "            for j, item in enumerate(line):\n",
        "                if input[i][j] == -1:\n",
        "                    input[i][j] = 0\n",
        "        all_flashed = True\n",
        "        for i, line in enumerate(input):\n",
        "            if any(v != 0 for v in line):\n",
        "                all_flashed = False\n",
        "        if all_flashed:\n",
        "            return steps"
      ],
      "execution_count": 11,
      "outputs": []
    },
    {
      "cell_type": "code",
      "metadata": {
        "colab": {
          "base_uri": "https://localhost:8080/"
        },
        "id": "4zooMN1MtrBx",
        "outputId": "841388fa-dd97-4abe-fe4b-cd2cd017434f"
      },
      "source": [
        "start_time = time.time()\n",
        "print(dumbo_octopus2())\n",
        "print(\"--- %s seconds ---\" % (time.time() - start_time))"
      ],
      "execution_count": 12,
      "outputs": [
        {
          "output_type": "stream",
          "name": "stdout",
          "text": [
            "268\n",
            "--- 0.03068828582763672 seconds ---\n"
          ]
        }
      ]
    }
  ]
}
